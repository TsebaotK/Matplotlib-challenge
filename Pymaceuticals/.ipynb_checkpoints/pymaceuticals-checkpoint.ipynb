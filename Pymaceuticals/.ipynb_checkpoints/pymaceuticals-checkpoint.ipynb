{
 "cells": [
  {
   "cell_type": "markdown",
   "metadata": {},
   "source": [
    "# Pymaceuticals Inc.\n",
    "---\n",
    "\n",
    "### Analysis\n",
    "\n",
    "- Add your analysis here.\n",
    " "
   ]
  },
  {
   "cell_type": "code",
   "execution_count": 1,
   "metadata": {},
   "outputs": [
    {
     "data": {
      "text/html": [
       "<div>\n",
       "<style scoped>\n",
       "    .dataframe tbody tr th:only-of-type {\n",
       "        vertical-align: middle;\n",
       "    }\n",
       "\n",
       "    .dataframe tbody tr th {\n",
       "        vertical-align: top;\n",
       "    }\n",
       "\n",
       "    .dataframe thead th {\n",
       "        text-align: right;\n",
       "    }\n",
       "</style>\n",
       "<table border=\"1\" class=\"dataframe\">\n",
       "  <thead>\n",
       "    <tr style=\"text-align: right;\">\n",
       "      <th></th>\n",
       "      <th>Mouse ID</th>\n",
       "      <th>Timepoint</th>\n",
       "      <th>Tumor Volume (mm3)</th>\n",
       "      <th>Metastatic Sites</th>\n",
       "      <th>Drug Regimen</th>\n",
       "      <th>Sex</th>\n",
       "      <th>Age_months</th>\n",
       "      <th>Weight (g)</th>\n",
       "    </tr>\n",
       "  </thead>\n",
       "  <tbody>\n",
       "    <tr>\n",
       "      <th>0</th>\n",
       "      <td>b128</td>\n",
       "      <td>0</td>\n",
       "      <td>45.0</td>\n",
       "      <td>0</td>\n",
       "      <td>Capomulin</td>\n",
       "      <td>Female</td>\n",
       "      <td>9</td>\n",
       "      <td>22</td>\n",
       "    </tr>\n",
       "    <tr>\n",
       "      <th>1</th>\n",
       "      <td>f932</td>\n",
       "      <td>0</td>\n",
       "      <td>45.0</td>\n",
       "      <td>0</td>\n",
       "      <td>Ketapril</td>\n",
       "      <td>Male</td>\n",
       "      <td>15</td>\n",
       "      <td>29</td>\n",
       "    </tr>\n",
       "    <tr>\n",
       "      <th>2</th>\n",
       "      <td>g107</td>\n",
       "      <td>0</td>\n",
       "      <td>45.0</td>\n",
       "      <td>0</td>\n",
       "      <td>Ketapril</td>\n",
       "      <td>Female</td>\n",
       "      <td>2</td>\n",
       "      <td>29</td>\n",
       "    </tr>\n",
       "    <tr>\n",
       "      <th>3</th>\n",
       "      <td>a457</td>\n",
       "      <td>0</td>\n",
       "      <td>45.0</td>\n",
       "      <td>0</td>\n",
       "      <td>Ketapril</td>\n",
       "      <td>Female</td>\n",
       "      <td>11</td>\n",
       "      <td>30</td>\n",
       "    </tr>\n",
       "    <tr>\n",
       "      <th>4</th>\n",
       "      <td>c819</td>\n",
       "      <td>0</td>\n",
       "      <td>45.0</td>\n",
       "      <td>0</td>\n",
       "      <td>Ketapril</td>\n",
       "      <td>Male</td>\n",
       "      <td>21</td>\n",
       "      <td>25</td>\n",
       "    </tr>\n",
       "  </tbody>\n",
       "</table>\n",
       "</div>"
      ],
      "text/plain": [
       "  Mouse ID  Timepoint  Tumor Volume (mm3)  Metastatic Sites Drug Regimen  \\\n",
       "0     b128          0                45.0                 0    Capomulin   \n",
       "1     f932          0                45.0                 0     Ketapril   \n",
       "2     g107          0                45.0                 0     Ketapril   \n",
       "3     a457          0                45.0                 0     Ketapril   \n",
       "4     c819          0                45.0                 0     Ketapril   \n",
       "\n",
       "      Sex  Age_months  Weight (g)  \n",
       "0  Female           9          22  \n",
       "1    Male          15          29  \n",
       "2  Female           2          29  \n",
       "3  Female          11          30  \n",
       "4    Male          21          25  "
      ]
     },
     "execution_count": 1,
     "metadata": {},
     "output_type": "execute_result"
    }
   ],
   "source": [
    "# Dependencies and Setup\n",
    "import matplotlib.pyplot as plt\n",
    "import pandas as pd\n",
    "import scipy.stats as st\n",
    "import numpy as np\n",
    "from scipy.stats import sem\n",
    "from scipy.stats import linregress\n",
    "\n",
    "# Study data files\n",
    "mouse_metadata_path = \"data/Mouse_metadata.csv\"\n",
    "study_results_path = \"data/Study_results.csv\"\n",
    "\n",
    "# Read the mouse data and the study results\n",
    "mouse_metadata = pd.read_csv(mouse_metadata_path)\n",
    "study_results = pd.read_csv(study_results_path)\n",
    "\n",
    "# Combine the data into a single dataset\n",
    "combined_study_df = pd.merge(study_results, mouse_metadata, how = \"left\", on=\"Mouse ID\")\n",
    "\n",
    "# Display the data table for preview\n",
    "combined_study_df.head()"
   ]
  },
  {
   "cell_type": "code",
   "execution_count": 2,
   "metadata": {},
   "outputs": [
    {
     "data": {
      "text/plain": [
       "249"
      ]
     },
     "execution_count": 2,
     "metadata": {},
     "output_type": "execute_result"
    }
   ],
   "source": [
    "# Checking the number of mice.\n",
    "mice_count = len(combined_study_df[\"Mouse ID\"].unique())\n",
    "mice_count"
   ]
  },
  {
   "cell_type": "code",
   "execution_count": 3,
   "metadata": {},
   "outputs": [
    {
     "data": {
      "text/plain": [
       "array(['g989'], dtype=object)"
      ]
     },
     "execution_count": 3,
     "metadata": {},
     "output_type": "execute_result"
    }
   ],
   "source": [
    "# Getting the duplicate mice by ID number that shows up for Mouse ID and Timepoint. \n",
    "duplicated_mice = combined_study_df.duplicated([\"Mouse ID\",\"Timepoint\"])\n",
    "\n",
    "duplicated_mice_Id = combined_study_df.loc[duplicated_mice,\"Mouse ID\"].unique()\n",
    "duplicated_mice_Id "
   ]
  },
  {
   "cell_type": "code",
   "execution_count": 4,
   "metadata": {},
   "outputs": [
    {
     "data": {
      "text/html": [
       "<div>\n",
       "<style scoped>\n",
       "    .dataframe tbody tr th:only-of-type {\n",
       "        vertical-align: middle;\n",
       "    }\n",
       "\n",
       "    .dataframe tbody tr th {\n",
       "        vertical-align: top;\n",
       "    }\n",
       "\n",
       "    .dataframe thead th {\n",
       "        text-align: right;\n",
       "    }\n",
       "</style>\n",
       "<table border=\"1\" class=\"dataframe\">\n",
       "  <thead>\n",
       "    <tr style=\"text-align: right;\">\n",
       "      <th></th>\n",
       "      <th>Mouse ID</th>\n",
       "      <th>Timepoint</th>\n",
       "      <th>Tumor Volume (mm3)</th>\n",
       "      <th>Metastatic Sites</th>\n",
       "      <th>Drug Regimen</th>\n",
       "      <th>Sex</th>\n",
       "      <th>Age_months</th>\n",
       "      <th>Weight (g)</th>\n",
       "    </tr>\n",
       "  </thead>\n",
       "  <tbody>\n",
       "    <tr>\n",
       "      <th>107</th>\n",
       "      <td>g989</td>\n",
       "      <td>0</td>\n",
       "      <td>45.000000</td>\n",
       "      <td>0</td>\n",
       "      <td>Propriva</td>\n",
       "      <td>Female</td>\n",
       "      <td>21</td>\n",
       "      <td>26</td>\n",
       "    </tr>\n",
       "    <tr>\n",
       "      <th>137</th>\n",
       "      <td>g989</td>\n",
       "      <td>0</td>\n",
       "      <td>45.000000</td>\n",
       "      <td>0</td>\n",
       "      <td>Propriva</td>\n",
       "      <td>Female</td>\n",
       "      <td>21</td>\n",
       "      <td>26</td>\n",
       "    </tr>\n",
       "    <tr>\n",
       "      <th>329</th>\n",
       "      <td>g989</td>\n",
       "      <td>5</td>\n",
       "      <td>48.786801</td>\n",
       "      <td>0</td>\n",
       "      <td>Propriva</td>\n",
       "      <td>Female</td>\n",
       "      <td>21</td>\n",
       "      <td>26</td>\n",
       "    </tr>\n",
       "    <tr>\n",
       "      <th>360</th>\n",
       "      <td>g989</td>\n",
       "      <td>5</td>\n",
       "      <td>47.570392</td>\n",
       "      <td>0</td>\n",
       "      <td>Propriva</td>\n",
       "      <td>Female</td>\n",
       "      <td>21</td>\n",
       "      <td>26</td>\n",
       "    </tr>\n",
       "    <tr>\n",
       "      <th>620</th>\n",
       "      <td>g989</td>\n",
       "      <td>10</td>\n",
       "      <td>51.745156</td>\n",
       "      <td>0</td>\n",
       "      <td>Propriva</td>\n",
       "      <td>Female</td>\n",
       "      <td>21</td>\n",
       "      <td>26</td>\n",
       "    </tr>\n",
       "    <tr>\n",
       "      <th>681</th>\n",
       "      <td>g989</td>\n",
       "      <td>10</td>\n",
       "      <td>49.880528</td>\n",
       "      <td>0</td>\n",
       "      <td>Propriva</td>\n",
       "      <td>Female</td>\n",
       "      <td>21</td>\n",
       "      <td>26</td>\n",
       "    </tr>\n",
       "    <tr>\n",
       "      <th>815</th>\n",
       "      <td>g989</td>\n",
       "      <td>15</td>\n",
       "      <td>51.325852</td>\n",
       "      <td>1</td>\n",
       "      <td>Propriva</td>\n",
       "      <td>Female</td>\n",
       "      <td>21</td>\n",
       "      <td>26</td>\n",
       "    </tr>\n",
       "    <tr>\n",
       "      <th>869</th>\n",
       "      <td>g989</td>\n",
       "      <td>15</td>\n",
       "      <td>53.442020</td>\n",
       "      <td>0</td>\n",
       "      <td>Propriva</td>\n",
       "      <td>Female</td>\n",
       "      <td>21</td>\n",
       "      <td>26</td>\n",
       "    </tr>\n",
       "    <tr>\n",
       "      <th>950</th>\n",
       "      <td>g989</td>\n",
       "      <td>20</td>\n",
       "      <td>55.326122</td>\n",
       "      <td>1</td>\n",
       "      <td>Propriva</td>\n",
       "      <td>Female</td>\n",
       "      <td>21</td>\n",
       "      <td>26</td>\n",
       "    </tr>\n",
       "    <tr>\n",
       "      <th>1111</th>\n",
       "      <td>g989</td>\n",
       "      <td>20</td>\n",
       "      <td>54.657650</td>\n",
       "      <td>1</td>\n",
       "      <td>Propriva</td>\n",
       "      <td>Female</td>\n",
       "      <td>21</td>\n",
       "      <td>26</td>\n",
       "    </tr>\n",
       "    <tr>\n",
       "      <th>1195</th>\n",
       "      <td>g989</td>\n",
       "      <td>25</td>\n",
       "      <td>56.045564</td>\n",
       "      <td>1</td>\n",
       "      <td>Propriva</td>\n",
       "      <td>Female</td>\n",
       "      <td>21</td>\n",
       "      <td>26</td>\n",
       "    </tr>\n",
       "    <tr>\n",
       "      <th>1380</th>\n",
       "      <td>g989</td>\n",
       "      <td>30</td>\n",
       "      <td>59.082294</td>\n",
       "      <td>1</td>\n",
       "      <td>Propriva</td>\n",
       "      <td>Female</td>\n",
       "      <td>21</td>\n",
       "      <td>26</td>\n",
       "    </tr>\n",
       "    <tr>\n",
       "      <th>1592</th>\n",
       "      <td>g989</td>\n",
       "      <td>35</td>\n",
       "      <td>62.570880</td>\n",
       "      <td>2</td>\n",
       "      <td>Propriva</td>\n",
       "      <td>Female</td>\n",
       "      <td>21</td>\n",
       "      <td>26</td>\n",
       "    </tr>\n",
       "  </tbody>\n",
       "</table>\n",
       "</div>"
      ],
      "text/plain": [
       "     Mouse ID  Timepoint  Tumor Volume (mm3)  Metastatic Sites Drug Regimen  \\\n",
       "107      g989          0           45.000000                 0     Propriva   \n",
       "137      g989          0           45.000000                 0     Propriva   \n",
       "329      g989          5           48.786801                 0     Propriva   \n",
       "360      g989          5           47.570392                 0     Propriva   \n",
       "620      g989         10           51.745156                 0     Propriva   \n",
       "681      g989         10           49.880528                 0     Propriva   \n",
       "815      g989         15           51.325852                 1     Propriva   \n",
       "869      g989         15           53.442020                 0     Propriva   \n",
       "950      g989         20           55.326122                 1     Propriva   \n",
       "1111     g989         20           54.657650                 1     Propriva   \n",
       "1195     g989         25           56.045564                 1     Propriva   \n",
       "1380     g989         30           59.082294                 1     Propriva   \n",
       "1592     g989         35           62.570880                 2     Propriva   \n",
       "\n",
       "         Sex  Age_months  Weight (g)  \n",
       "107   Female          21          26  \n",
       "137   Female          21          26  \n",
       "329   Female          21          26  \n",
       "360   Female          21          26  \n",
       "620   Female          21          26  \n",
       "681   Female          21          26  \n",
       "815   Female          21          26  \n",
       "869   Female          21          26  \n",
       "950   Female          21          26  \n",
       "1111  Female          21          26  \n",
       "1195  Female          21          26  \n",
       "1380  Female          21          26  \n",
       "1592  Female          21          26  "
      ]
     },
     "execution_count": 4,
     "metadata": {},
     "output_type": "execute_result"
    }
   ],
   "source": [
    "# Optional: Get all the data for the duplicate mouse ID. \n",
    "duplicated_Id_data = combined_study_df.loc[combined_study_df[\"Mouse ID\"].isin(duplicated_mice_Id)]\n",
    "duplicated_Id_data"
   ]
  },
  {
   "cell_type": "code",
   "execution_count": 5,
   "metadata": {},
   "outputs": [
    {
     "data": {
      "text/html": [
       "<div>\n",
       "<style scoped>\n",
       "    .dataframe tbody tr th:only-of-type {\n",
       "        vertical-align: middle;\n",
       "    }\n",
       "\n",
       "    .dataframe tbody tr th {\n",
       "        vertical-align: top;\n",
       "    }\n",
       "\n",
       "    .dataframe thead th {\n",
       "        text-align: right;\n",
       "    }\n",
       "</style>\n",
       "<table border=\"1\" class=\"dataframe\">\n",
       "  <thead>\n",
       "    <tr style=\"text-align: right;\">\n",
       "      <th></th>\n",
       "      <th>Mouse ID</th>\n",
       "      <th>Timepoint</th>\n",
       "      <th>Tumor Volume (mm3)</th>\n",
       "      <th>Metastatic Sites</th>\n",
       "      <th>Drug Regimen</th>\n",
       "      <th>Sex</th>\n",
       "      <th>Age_months</th>\n",
       "      <th>Weight (g)</th>\n",
       "    </tr>\n",
       "  </thead>\n",
       "  <tbody>\n",
       "    <tr>\n",
       "      <th>0</th>\n",
       "      <td>b128</td>\n",
       "      <td>0</td>\n",
       "      <td>45.0</td>\n",
       "      <td>0</td>\n",
       "      <td>Capomulin</td>\n",
       "      <td>Female</td>\n",
       "      <td>9</td>\n",
       "      <td>22</td>\n",
       "    </tr>\n",
       "    <tr>\n",
       "      <th>1</th>\n",
       "      <td>f932</td>\n",
       "      <td>0</td>\n",
       "      <td>45.0</td>\n",
       "      <td>0</td>\n",
       "      <td>Ketapril</td>\n",
       "      <td>Male</td>\n",
       "      <td>15</td>\n",
       "      <td>29</td>\n",
       "    </tr>\n",
       "    <tr>\n",
       "      <th>2</th>\n",
       "      <td>g107</td>\n",
       "      <td>0</td>\n",
       "      <td>45.0</td>\n",
       "      <td>0</td>\n",
       "      <td>Ketapril</td>\n",
       "      <td>Female</td>\n",
       "      <td>2</td>\n",
       "      <td>29</td>\n",
       "    </tr>\n",
       "    <tr>\n",
       "      <th>3</th>\n",
       "      <td>a457</td>\n",
       "      <td>0</td>\n",
       "      <td>45.0</td>\n",
       "      <td>0</td>\n",
       "      <td>Ketapril</td>\n",
       "      <td>Female</td>\n",
       "      <td>11</td>\n",
       "      <td>30</td>\n",
       "    </tr>\n",
       "    <tr>\n",
       "      <th>4</th>\n",
       "      <td>c819</td>\n",
       "      <td>0</td>\n",
       "      <td>45.0</td>\n",
       "      <td>0</td>\n",
       "      <td>Ketapril</td>\n",
       "      <td>Male</td>\n",
       "      <td>21</td>\n",
       "      <td>25</td>\n",
       "    </tr>\n",
       "  </tbody>\n",
       "</table>\n",
       "</div>"
      ],
      "text/plain": [
       "  Mouse ID  Timepoint  Tumor Volume (mm3)  Metastatic Sites Drug Regimen  \\\n",
       "0     b128          0                45.0                 0    Capomulin   \n",
       "1     f932          0                45.0                 0     Ketapril   \n",
       "2     g107          0                45.0                 0     Ketapril   \n",
       "3     a457          0                45.0                 0     Ketapril   \n",
       "4     c819          0                45.0                 0     Ketapril   \n",
       "\n",
       "      Sex  Age_months  Weight (g)  \n",
       "0  Female           9          22  \n",
       "1    Male          15          29  \n",
       "2  Female           2          29  \n",
       "3  Female          11          30  \n",
       "4    Male          21          25  "
      ]
     },
     "execution_count": 5,
     "metadata": {},
     "output_type": "execute_result"
    }
   ],
   "source": [
    "# Create a clean DataFrame by dropping the duplicate mouse by its ID.\n",
    "cleaned_data = combined_study_df.loc[combined_study_df[\"Mouse ID\"].isin(duplicated_mice_Id) == False]\n",
    "cleaned_data.head()"
   ]
  },
  {
   "cell_type": "code",
   "execution_count": 6,
   "metadata": {},
   "outputs": [
    {
     "data": {
      "text/plain": [
       "248"
      ]
     },
     "execution_count": 6,
     "metadata": {},
     "output_type": "execute_result"
    }
   ],
   "source": [
    "# Checking the number of mice in the clean DataFrame.\n",
    "final_mice_count = len(cleaned_data[\"Mouse ID\"].unique())\n",
    "final_mice_count"
   ]
  },
  {
   "cell_type": "markdown",
   "metadata": {},
   "source": [
    "## Summary Statistics"
   ]
  },
  {
   "cell_type": "code",
   "execution_count": 7,
   "metadata": {},
   "outputs": [
    {
     "data": {
      "text/html": [
       "<div>\n",
       "<style scoped>\n",
       "    .dataframe tbody tr th:only-of-type {\n",
       "        vertical-align: middle;\n",
       "    }\n",
       "\n",
       "    .dataframe tbody tr th {\n",
       "        vertical-align: top;\n",
       "    }\n",
       "\n",
       "    .dataframe thead th {\n",
       "        text-align: right;\n",
       "    }\n",
       "</style>\n",
       "<table border=\"1\" class=\"dataframe\">\n",
       "  <thead>\n",
       "    <tr style=\"text-align: right;\">\n",
       "      <th></th>\n",
       "      <th>Mean Tumor Volume</th>\n",
       "      <th>Median Tumor Volume</th>\n",
       "      <th>Tumor Volume Variance</th>\n",
       "      <th>Tumor Volume Std. Dev.</th>\n",
       "      <th>Tumor Volume Std. Err.</th>\n",
       "    </tr>\n",
       "    <tr>\n",
       "      <th>Drug Regimen</th>\n",
       "      <th></th>\n",
       "      <th></th>\n",
       "      <th></th>\n",
       "      <th></th>\n",
       "      <th></th>\n",
       "    </tr>\n",
       "  </thead>\n",
       "  <tbody>\n",
       "    <tr>\n",
       "      <th>Capomulin</th>\n",
       "      <td>40.675741</td>\n",
       "      <td>41.557809</td>\n",
       "      <td>24.947764</td>\n",
       "      <td>4.994774</td>\n",
       "      <td>0.329346</td>\n",
       "    </tr>\n",
       "    <tr>\n",
       "      <th>Ceftamin</th>\n",
       "      <td>52.591172</td>\n",
       "      <td>51.776157</td>\n",
       "      <td>39.290177</td>\n",
       "      <td>6.268188</td>\n",
       "      <td>0.469821</td>\n",
       "    </tr>\n",
       "    <tr>\n",
       "      <th>Infubinol</th>\n",
       "      <td>52.884795</td>\n",
       "      <td>51.820584</td>\n",
       "      <td>43.128684</td>\n",
       "      <td>6.567243</td>\n",
       "      <td>0.492236</td>\n",
       "    </tr>\n",
       "    <tr>\n",
       "      <th>Ketapril</th>\n",
       "      <td>55.235638</td>\n",
       "      <td>53.698743</td>\n",
       "      <td>68.553577</td>\n",
       "      <td>8.279709</td>\n",
       "      <td>0.603860</td>\n",
       "    </tr>\n",
       "    <tr>\n",
       "      <th>Naftisol</th>\n",
       "      <td>54.331565</td>\n",
       "      <td>52.509285</td>\n",
       "      <td>66.173479</td>\n",
       "      <td>8.134708</td>\n",
       "      <td>0.596466</td>\n",
       "    </tr>\n",
       "    <tr>\n",
       "      <th>Placebo</th>\n",
       "      <td>54.033581</td>\n",
       "      <td>52.288934</td>\n",
       "      <td>61.168083</td>\n",
       "      <td>7.821003</td>\n",
       "      <td>0.581331</td>\n",
       "    </tr>\n",
       "    <tr>\n",
       "      <th>Propriva</th>\n",
       "      <td>52.320930</td>\n",
       "      <td>50.446266</td>\n",
       "      <td>43.852013</td>\n",
       "      <td>6.622085</td>\n",
       "      <td>0.544332</td>\n",
       "    </tr>\n",
       "    <tr>\n",
       "      <th>Ramicane</th>\n",
       "      <td>40.216745</td>\n",
       "      <td>40.673236</td>\n",
       "      <td>23.486704</td>\n",
       "      <td>4.846308</td>\n",
       "      <td>0.320955</td>\n",
       "    </tr>\n",
       "    <tr>\n",
       "      <th>Stelasyn</th>\n",
       "      <td>54.233149</td>\n",
       "      <td>52.431737</td>\n",
       "      <td>59.450562</td>\n",
       "      <td>7.710419</td>\n",
       "      <td>0.573111</td>\n",
       "    </tr>\n",
       "    <tr>\n",
       "      <th>Zoniferol</th>\n",
       "      <td>53.236507</td>\n",
       "      <td>51.818479</td>\n",
       "      <td>48.533355</td>\n",
       "      <td>6.966589</td>\n",
       "      <td>0.516398</td>\n",
       "    </tr>\n",
       "  </tbody>\n",
       "</table>\n",
       "</div>"
      ],
      "text/plain": [
       "              Mean Tumor Volume  Median Tumor Volume  Tumor Volume Variance  \\\n",
       "Drug Regimen                                                                  \n",
       "Capomulin             40.675741            41.557809              24.947764   \n",
       "Ceftamin              52.591172            51.776157              39.290177   \n",
       "Infubinol             52.884795            51.820584              43.128684   \n",
       "Ketapril              55.235638            53.698743              68.553577   \n",
       "Naftisol              54.331565            52.509285              66.173479   \n",
       "Placebo               54.033581            52.288934              61.168083   \n",
       "Propriva              52.320930            50.446266              43.852013   \n",
       "Ramicane              40.216745            40.673236              23.486704   \n",
       "Stelasyn              54.233149            52.431737              59.450562   \n",
       "Zoniferol             53.236507            51.818479              48.533355   \n",
       "\n",
       "              Tumor Volume Std. Dev.  Tumor Volume Std. Err.  \n",
       "Drug Regimen                                                  \n",
       "Capomulin                   4.994774                0.329346  \n",
       "Ceftamin                    6.268188                0.469821  \n",
       "Infubinol                   6.567243                0.492236  \n",
       "Ketapril                    8.279709                0.603860  \n",
       "Naftisol                    8.134708                0.596466  \n",
       "Placebo                     7.821003                0.581331  \n",
       "Propriva                    6.622085                0.544332  \n",
       "Ramicane                    4.846308                0.320955  \n",
       "Stelasyn                    7.710419                0.573111  \n",
       "Zoniferol                   6.966589                0.516398  "
      ]
     },
     "execution_count": 7,
     "metadata": {},
     "output_type": "execute_result"
    }
   ],
   "source": [
    "# Generate a summary statistics table of mean, median, variance, standard deviation, and SEM of the tumor volume for each regimen\n",
    "#cleaned_data.describe()\n",
    "\n",
    "mean_tumor_volume = cleaned_data.groupby([\"Drug Regimen\"]).mean()[\"Tumor Volume (mm3)\"]\n",
    "median_tumor_volume = cleaned_data.groupby([\"Drug Regimen\"]).median()[\"Tumor Volume (mm3)\"]\n",
    "tumor_volume_variance = cleaned_data.groupby([\"Drug Regimen\"]).var()[\"Tumor Volume (mm3)\"]\n",
    "tumor_volume_std_dev = cleaned_data.groupby([\"Drug Regimen\"]).std()[\"Tumor Volume (mm3)\"]\n",
    "tumor_volume_std_err = cleaned_data.groupby(cleaned_data[\"Drug Regimen\"]).sem()[\"Tumor Volume (mm3)\"]\n",
    "\n",
    "summary_table = {\"Mean Tumor Volume\": mean_tumor_volume, \"Median Tumor Volume\": median_tumor_volume, \n",
    "                 \"Tumor Volume Variance\": tumor_volume_variance, \"Tumor Volume Std. Dev.\": tumor_volume_std_dev,\n",
    "                 \"Tumor Volume Std. Err.\": tumor_volume_std_err}\n",
    "                \n",
    "\n",
    "summary_table = pd.DataFrame(summary_table, columns=[\"Mean Tumor Volume\", \"Median Tumor Volume\", \"Tumor Volume Variance\", \n",
    "                                                      \"Tumor Volume Std. Dev.\", \"Tumor Volume Std. Err.\"])\n",
    "summary_table"
   ]
  },
  {
   "cell_type": "code",
   "execution_count": 8,
   "metadata": {},
   "outputs": [
    {
     "data": {
      "text/html": [
       "<style type=\"text/css\">\n",
       "#T_8298b_row0_col0, #T_8298b_row0_col1, #T_8298b_row0_col2, #T_8298b_row0_col3, #T_8298b_row0_col4, #T_8298b_row1_col0, #T_8298b_row1_col1, #T_8298b_row1_col2, #T_8298b_row1_col3, #T_8298b_row1_col4, #T_8298b_row2_col0, #T_8298b_row2_col1, #T_8298b_row2_col2, #T_8298b_row2_col3, #T_8298b_row2_col4, #T_8298b_row3_col0, #T_8298b_row3_col1, #T_8298b_row3_col2, #T_8298b_row3_col3, #T_8298b_row3_col4, #T_8298b_row4_col0, #T_8298b_row4_col1, #T_8298b_row4_col2, #T_8298b_row4_col3, #T_8298b_row4_col4, #T_8298b_row5_col0, #T_8298b_row5_col1, #T_8298b_row5_col2, #T_8298b_row5_col3, #T_8298b_row5_col4, #T_8298b_row6_col0, #T_8298b_row6_col1, #T_8298b_row6_col2, #T_8298b_row6_col3, #T_8298b_row6_col4, #T_8298b_row7_col0, #T_8298b_row7_col1, #T_8298b_row7_col2, #T_8298b_row7_col3, #T_8298b_row7_col4, #T_8298b_row8_col0, #T_8298b_row8_col1, #T_8298b_row8_col2, #T_8298b_row8_col3, #T_8298b_row8_col4, #T_8298b_row9_col0, #T_8298b_row9_col1, #T_8298b_row9_col2, #T_8298b_row9_col3, #T_8298b_row9_col4 {\n",
       "  text-align: right;\n",
       "}\n",
       "</style>\n",
       "<table id=\"T_8298b\">\n",
       "  <thead>\n",
       "    <tr>\n",
       "      <th class=\"blank level0\" >&nbsp;</th>\n",
       "      <th id=\"T_8298b_level0_col0\" class=\"col_heading level0 col0\" colspan=\"5\">Tumor Volume (mm3)</th>\n",
       "    </tr>\n",
       "    <tr>\n",
       "      <th class=\"blank level1\" >&nbsp;</th>\n",
       "      <th id=\"T_8298b_level1_col0\" class=\"col_heading level1 col0\" >mean</th>\n",
       "      <th id=\"T_8298b_level1_col1\" class=\"col_heading level1 col1\" >median</th>\n",
       "      <th id=\"T_8298b_level1_col2\" class=\"col_heading level1 col2\" >var</th>\n",
       "      <th id=\"T_8298b_level1_col3\" class=\"col_heading level1 col3\" >std</th>\n",
       "      <th id=\"T_8298b_level1_col4\" class=\"col_heading level1 col4\" >sem</th>\n",
       "    </tr>\n",
       "    <tr>\n",
       "      <th class=\"index_name level0\" >Drug Regimen</th>\n",
       "      <th class=\"blank col0\" >&nbsp;</th>\n",
       "      <th class=\"blank col1\" >&nbsp;</th>\n",
       "      <th class=\"blank col2\" >&nbsp;</th>\n",
       "      <th class=\"blank col3\" >&nbsp;</th>\n",
       "      <th class=\"blank col4\" >&nbsp;</th>\n",
       "    </tr>\n",
       "  </thead>\n",
       "  <tbody>\n",
       "    <tr>\n",
       "      <th id=\"T_8298b_level0_row0\" class=\"row_heading level0 row0\" >Capomulin</th>\n",
       "      <td id=\"T_8298b_row0_col0\" class=\"data row0 col0\" >40.675741</td>\n",
       "      <td id=\"T_8298b_row0_col1\" class=\"data row0 col1\" >41.557809</td>\n",
       "      <td id=\"T_8298b_row0_col2\" class=\"data row0 col2\" >24.947764</td>\n",
       "      <td id=\"T_8298b_row0_col3\" class=\"data row0 col3\" >4.994774</td>\n",
       "      <td id=\"T_8298b_row0_col4\" class=\"data row0 col4\" >0.329346</td>\n",
       "    </tr>\n",
       "    <tr>\n",
       "      <th id=\"T_8298b_level0_row1\" class=\"row_heading level0 row1\" >Ceftamin</th>\n",
       "      <td id=\"T_8298b_row1_col0\" class=\"data row1 col0\" >52.591172</td>\n",
       "      <td id=\"T_8298b_row1_col1\" class=\"data row1 col1\" >51.776157</td>\n",
       "      <td id=\"T_8298b_row1_col2\" class=\"data row1 col2\" >39.290177</td>\n",
       "      <td id=\"T_8298b_row1_col3\" class=\"data row1 col3\" >6.268188</td>\n",
       "      <td id=\"T_8298b_row1_col4\" class=\"data row1 col4\" >0.469821</td>\n",
       "    </tr>\n",
       "    <tr>\n",
       "      <th id=\"T_8298b_level0_row2\" class=\"row_heading level0 row2\" >Infubinol</th>\n",
       "      <td id=\"T_8298b_row2_col0\" class=\"data row2 col0\" >52.884795</td>\n",
       "      <td id=\"T_8298b_row2_col1\" class=\"data row2 col1\" >51.820584</td>\n",
       "      <td id=\"T_8298b_row2_col2\" class=\"data row2 col2\" >43.128684</td>\n",
       "      <td id=\"T_8298b_row2_col3\" class=\"data row2 col3\" >6.567243</td>\n",
       "      <td id=\"T_8298b_row2_col4\" class=\"data row2 col4\" >0.492236</td>\n",
       "    </tr>\n",
       "    <tr>\n",
       "      <th id=\"T_8298b_level0_row3\" class=\"row_heading level0 row3\" >Ketapril</th>\n",
       "      <td id=\"T_8298b_row3_col0\" class=\"data row3 col0\" >55.235638</td>\n",
       "      <td id=\"T_8298b_row3_col1\" class=\"data row3 col1\" >53.698743</td>\n",
       "      <td id=\"T_8298b_row3_col2\" class=\"data row3 col2\" >68.553577</td>\n",
       "      <td id=\"T_8298b_row3_col3\" class=\"data row3 col3\" >8.279709</td>\n",
       "      <td id=\"T_8298b_row3_col4\" class=\"data row3 col4\" >0.603860</td>\n",
       "    </tr>\n",
       "    <tr>\n",
       "      <th id=\"T_8298b_level0_row4\" class=\"row_heading level0 row4\" >Naftisol</th>\n",
       "      <td id=\"T_8298b_row4_col0\" class=\"data row4 col0\" >54.331565</td>\n",
       "      <td id=\"T_8298b_row4_col1\" class=\"data row4 col1\" >52.509285</td>\n",
       "      <td id=\"T_8298b_row4_col2\" class=\"data row4 col2\" >66.173479</td>\n",
       "      <td id=\"T_8298b_row4_col3\" class=\"data row4 col3\" >8.134708</td>\n",
       "      <td id=\"T_8298b_row4_col4\" class=\"data row4 col4\" >0.596466</td>\n",
       "    </tr>\n",
       "    <tr>\n",
       "      <th id=\"T_8298b_level0_row5\" class=\"row_heading level0 row5\" >Placebo</th>\n",
       "      <td id=\"T_8298b_row5_col0\" class=\"data row5 col0\" >54.033581</td>\n",
       "      <td id=\"T_8298b_row5_col1\" class=\"data row5 col1\" >52.288934</td>\n",
       "      <td id=\"T_8298b_row5_col2\" class=\"data row5 col2\" >61.168083</td>\n",
       "      <td id=\"T_8298b_row5_col3\" class=\"data row5 col3\" >7.821003</td>\n",
       "      <td id=\"T_8298b_row5_col4\" class=\"data row5 col4\" >0.581331</td>\n",
       "    </tr>\n",
       "    <tr>\n",
       "      <th id=\"T_8298b_level0_row6\" class=\"row_heading level0 row6\" >Propriva</th>\n",
       "      <td id=\"T_8298b_row6_col0\" class=\"data row6 col0\" >52.320930</td>\n",
       "      <td id=\"T_8298b_row6_col1\" class=\"data row6 col1\" >50.446266</td>\n",
       "      <td id=\"T_8298b_row6_col2\" class=\"data row6 col2\" >43.852013</td>\n",
       "      <td id=\"T_8298b_row6_col3\" class=\"data row6 col3\" >6.622085</td>\n",
       "      <td id=\"T_8298b_row6_col4\" class=\"data row6 col4\" >0.544332</td>\n",
       "    </tr>\n",
       "    <tr>\n",
       "      <th id=\"T_8298b_level0_row7\" class=\"row_heading level0 row7\" >Ramicane</th>\n",
       "      <td id=\"T_8298b_row7_col0\" class=\"data row7 col0\" >40.216745</td>\n",
       "      <td id=\"T_8298b_row7_col1\" class=\"data row7 col1\" >40.673236</td>\n",
       "      <td id=\"T_8298b_row7_col2\" class=\"data row7 col2\" >23.486704</td>\n",
       "      <td id=\"T_8298b_row7_col3\" class=\"data row7 col3\" >4.846308</td>\n",
       "      <td id=\"T_8298b_row7_col4\" class=\"data row7 col4\" >0.320955</td>\n",
       "    </tr>\n",
       "    <tr>\n",
       "      <th id=\"T_8298b_level0_row8\" class=\"row_heading level0 row8\" >Stelasyn</th>\n",
       "      <td id=\"T_8298b_row8_col0\" class=\"data row8 col0\" >54.233149</td>\n",
       "      <td id=\"T_8298b_row8_col1\" class=\"data row8 col1\" >52.431737</td>\n",
       "      <td id=\"T_8298b_row8_col2\" class=\"data row8 col2\" >59.450562</td>\n",
       "      <td id=\"T_8298b_row8_col3\" class=\"data row8 col3\" >7.710419</td>\n",
       "      <td id=\"T_8298b_row8_col4\" class=\"data row8 col4\" >0.573111</td>\n",
       "    </tr>\n",
       "    <tr>\n",
       "      <th id=\"T_8298b_level0_row9\" class=\"row_heading level0 row9\" >Zoniferol</th>\n",
       "      <td id=\"T_8298b_row9_col0\" class=\"data row9 col0\" >53.236507</td>\n",
       "      <td id=\"T_8298b_row9_col1\" class=\"data row9 col1\" >51.818479</td>\n",
       "      <td id=\"T_8298b_row9_col2\" class=\"data row9 col2\" >48.533355</td>\n",
       "      <td id=\"T_8298b_row9_col3\" class=\"data row9 col3\" >6.966589</td>\n",
       "      <td id=\"T_8298b_row9_col4\" class=\"data row9 col4\" >0.516398</td>\n",
       "    </tr>\n",
       "  </tbody>\n",
       "</table>\n"
      ],
      "text/plain": [
       "<pandas.io.formats.style.Styler at 0x17432f8a1f0>"
      ]
     },
     "execution_count": 8,
     "metadata": {},
     "output_type": "execute_result"
    }
   ],
   "source": [
    "# Generate a summary statistics table of mean, median, variance, standard deviation, \n",
    "# and SEM of the tumor volume for each regimen\n",
    "\n",
    "# Using the aggregation method, produce the same summary statistics in a single line.\n",
    "\n",
    "summary_statistics = cleaned_data.groupby(\"Drug Regimen\").agg({\"Tumor Volume (mm3)\":[\"mean\", \"median\",\"var\",\"std\",\"sem\"]})\n",
    "summary_statistics.style.set_properties(**{'text-align':'right'})"
   ]
  },
  {
   "cell_type": "markdown",
   "metadata": {},
   "source": [
    "## Bar and Pie Charts"
   ]
  },
  {
   "cell_type": "code",
   "execution_count": 9,
   "metadata": {},
   "outputs": [
    {
     "data": {
      "image/png": "[encoded data removed]",
      "text/plain": [
       "<Figure size 500x300 with 1 Axes>"
      ]
     },
     "metadata": {},
     "output_type": "display_data"
    }
   ],
   "source": [
    "# Generate a bar plot showing the total number of timepoints for all mice tested for each drug regimen using Pandas.\n",
    "mice_tested = cleaned_data.groupby(\"Drug Regimen\").count()[\"Timepoint\"].sort_values(ascending = False ) \n",
    "\n",
    "mice_tested.plot(kind=\"bar\", xlabel=\"Drug Regimen\", ylabel=\"Number of Mice Tested\", figsize=(5,3)) \n",
    "plt.show()"
   ]
  },
  {
   "cell_type": "code",
   "execution_count": 10,
   "metadata": {},
   "outputs": [
    {
     "data": {
      "image/png": "[encoded data removed]",
      "text/plain": [
       "<Figure size 500x300 with 1 Axes>"
      ]
     },
     "metadata": {},
     "output_type": "display_data"
    }
   ],
   "source": [
    "# Generate a bar plot showing the total number of timepoints for all mice tested for each drug regimen using pyplot.\n",
    "x_axis = np.arange(len(mice_tested))          \n",
    "tick_location = [value for value in x_axis]   \n",
    "\n",
    "plt.figure(figsize=(5,3))\n",
    "\n",
    "plt.bar(x_axis, mice_tested,align=\"center\")\n",
    "plt.xticks(tick_location, mice_tested.index, rotation=\"vertical\")\n",
    "\n",
    "plt.xlabel(\"Drug Regimen\")\n",
    "plt.ylabel(\"Number of Mice Tested\")\n",
    "plt.show()"
   ]
  },
  {
   "cell_type": "code",
   "execution_count": 11,
   "metadata": {},
   "outputs": [
    {
     "data": {
      "image/png": "[encoded data removed]",
      "text/plain": [
       "<Figure size 640x480 with 1 Axes>"
      ]
     },
     "metadata": {},
     "output_type": "display_data"
    }
   ],
   "source": [
    "# Generate a pie plot showing the distribution of female versus male mice using Pandas\n",
    "male_female = cleaned_data.groupby(\"Sex\").count()[\"Mouse ID\"].sort_values(ascending = False ) \n",
    "male_female.plot(kind=\"pie\", autopct=\"%1.1f%%\",ylabel=\"Sex\" ) \n",
    "plt.show()\n"
   ]
  },
  {
   "cell_type": "code",
   "execution_count": 12,
   "metadata": {},
   "outputs": [
    {
     "data": {
      "text/plain": [
       "Text(0, 0.5, 'Sex')"
      ]
     },
     "execution_count": 12,
     "metadata": {},
     "output_type": "execute_result"
    },
    {
     "data": {
      "image/png": "[encoded data removed]",
      "text/plain": [
       "<Figure size 640x480 with 1 Axes>"
      ]
     },
     "metadata": {},
     "output_type": "display_data"
    }
   ],
   "source": [
    "# Generate a pie plot showing the distribution of female versus male mice using pyplot\n",
    "plt.pie(male_female, labels = male_female.index, autopct=\"%1.1f%%\")\n",
    "plt.ylabel(\"Sex\")"
   ]
  },
  {
   "cell_type": "markdown",
   "metadata": {},
   "source": [
    "## Quartiles, Outliers and Boxplots"
   ]
  },
  {
   "cell_type": "code",
   "execution_count": 13,
   "metadata": {},
   "outputs": [],
   "source": [
    "# Calculate the final tumor volume of each mouse across four of the treatment regimens:  \n",
    "# Capomulin, Ramicane, Infubinol, and Ceftamin\n",
    "\n",
    "# Start by getting the last (greatest) timepoint for each mouse\n",
    "final_tumor = cleaned_data.groupby([\"Mouse ID\"])[\"Timepoint\"].max()\n",
    "final_tumor = final_tumor.reset_index()\n",
    "\n",
    "# Merge this group df with the original DataFrame to get the tumor volume at the last timepoint\n",
    "merged_data = pd.merge(final_tumor, cleaned_data, how = \"left\", on=[\"Mouse ID\",\"Timepoint\"])"
   ]
  },
  {
   "cell_type": "code",
   "execution_count": 14,
   "metadata": {},
   "outputs": [
    {
     "name": "stdout",
     "output_type": "stream",
     "text": [
      "Capomulin's potential outliers: Series([], Name: Tumor Volume (mm3), dtype: float64)\n",
      "Ramicane's potential outliers: Series([], Name: Tumor Volume (mm3), dtype: float64)\n",
      "Infubinol's potential outliers: 31    36.321346\n",
      "Name: Tumor Volume (mm3), dtype: float64\n",
      "Ceftamin's potential outliers: Series([], Name: Tumor Volume (mm3), dtype: float64)\n"
     ]
    }
   ],
   "source": [
    "# Put treatments into a list for for loop (and later for plot labels)\n",
    "treatment = [\"Capomulin\", \"Ramicane\", \"Infubinol\", \"Ceftamin\"]\n",
    "\n",
    "# Create empty list to fill with tumor vol data (for plotting)\n",
    "tumor_volume = []\n",
    "\n",
    "# Calculate the IQR and quantitatively determine if there are any potential outliers. \n",
    "for drug in treatment:\n",
    "    \n",
    "    # Locate the rows which contain mice on each drug and get the tumor volumes\n",
    "    selected_output = merged_data.loc[merged_data[\"Drug Regimen\"] == drug,\"Tumor Volume (mm3)\"]\n",
    "      \n",
    "    # add subset \n",
    "    tumor_volume.append(selected_output)\n",
    "    \n",
    "    # Determine outliers using upper and lower bounds\n",
    "    quartiles = selected_output.quantile([.25,.5,.75])\n",
    "    lowerq = quartiles[0.25]\n",
    "    upperq = quartiles[0.75]\n",
    "    iqr = upperq-lowerq\n",
    "    lower_bound = lowerq - (1.5*iqr)\n",
    "    upper_bound = upperq + (1.5*iqr)\n",
    "    outliers =selected_output.loc[(selected_output < lower_bound) | (selected_output> upper_bound)]\n",
    "    print(f\"{drug}'s potential outliers: {outliers}\") "
   ]
  },
  {
   "cell_type": "code",
   "execution_count": 15,
   "metadata": {},
   "outputs": [
    {
     "data": {
      "image/png": "[encoded data removed]",
      "text/plain": [
       "<Figure size 640x480 with 1 Axes>"
      ]
     },
     "metadata": {},
     "output_type": "display_data"
    }
   ],
   "source": [
    "#plt.boxplot(tumor_vol_list, labels = treatment_list)\n",
    "flierprops = dict(markerfacecolor='red', markersize=12)\n",
    "plt.boxplot(tumor_volume, labels = treatment, flierprops=flierprops)\n",
    "plt.ylabel('Final Tumor Volume (mm3)')\n",
    "plt.show()\n"
   ]
  },
  {
   "cell_type": "markdown",
   "metadata": {},
   "source": [
    "## Line and Scatter Plots"
   ]
  },
  {
   "cell_type": "code",
   "execution_count": 16,
   "metadata": {},
   "outputs": [
    {
     "data": {
      "image/png": "[encoded data removed]",
      "text/plain": [
       "<Figure size 640x480 with 1 Axes>"
      ]
     },
     "metadata": {},
     "output_type": "display_data"
    }
   ],
   "source": [
    "# Generate a line plot of tumor volume vs. time point for a mouse treated with Capomulin\n",
    "Capomulin_drug = cleaned_data.loc[cleaned_data[\"Drug Regimen\"] == \"Capomulin\",:]\n",
    "Capomulin_drug_l509 = Capomulin_drug.loc[Capomulin_drug[\"Mouse ID\"] == \"l509\",:]\n",
    "Timepoint = Capomulin_drug_l509[\"Timepoint\"]\n",
    "tumor_volume = Capomulin_drug_l509[\"Tumor Volume (mm3)\"]\n",
    "\n",
    "plt.plot(Timepoint, tumor_volume)\n",
    "plt.title(\"Capomulin treatment of mouse l509\")\n",
    "plt.xlabel(\"Timepoint (days)\")\n",
    "plt.ylabel(\"Tumor Volume (mm3)\")\n",
    "\n",
    "plt.xlim(-2,48)\n",
    "plt.ylim(39,49)\n",
    "plt.show()"
   ]
  },
  {
   "cell_type": "code",
   "execution_count": 17,
   "metadata": {},
   "outputs": [
    {
     "data": {
      "image/png": "[encoded data removed]",
      "text/plain": [
       "<Figure size 640x480 with 1 Axes>"
      ]
     },
     "metadata": {},
     "output_type": "display_data"
    }
   ],
   "source": [
    "# Generate a scatter plot of average tumor volume vs. mouse weight for the Capomulin regimen\n",
    "averaged_Capomulin_drug = Capomulin_drug.groupby([\"Mouse ID\"]).mean()\n",
    "average_weight = averaged_Capomulin_drug[\"Weight (g)\"]\n",
    "average_tumor_volume = averaged_Capomulin_drug[\"Tumor Volume (mm3)\"]\n",
    "\n",
    "plt.scatter(average_weight,average_tumor_volume)\n",
    "plt.xlabel(\"Weight (g)\")\n",
    "plt.ylabel(\"Average Tumor Volume (mm3)\")\n",
    "\n",
    "plt.xlim(14,26)\n",
    "plt.ylim(34,47)\n",
    "plt.show()"
   ]
  },
  {
   "cell_type": "markdown",
   "metadata": {},
   "source": [
    "## Correlation and Regression"
   ]
  },
  {
   "cell_type": "code",
   "execution_count": 18,
   "metadata": {},
   "outputs": [
    {
     "name": "stdout",
     "output_type": "stream",
     "text": [
      "The correlation between mouse weight and the average tumor volume is 0.84\n"
     ]
    },
    {
     "data": {
      "image/png": "[encoded data removed]",
      "text/plain": [
       "<Figure size 640x480 with 1 Axes>"
      ]
     },
     "metadata": {},
     "output_type": "display_data"
    }
   ],
   "source": [
    "# Calculate the correlation coefficient and linear regression model \n",
    "# for mouse weight and average tumor volume for the Capomulin regimen\n",
    "\n",
    "correlation = st.pearsonr(average_weight,average_tumor_volume)\n",
    "print(f\"The correlation between mouse weight and the average tumor volume is {round(correlation[0],2)}\")\n",
    "\n",
    "(slope, intercept, rvalue, pvalue, stderr) = linregress(average_weight,average_tumor_volume)\n",
    "regress_values = average_weight * slope + intercept\n",
    "\n",
    "plt.scatter(average_weight,average_tumor_volume)\n",
    "plt.plot(average_weight,regress_values,\"r-\")\n",
    "\n",
    "plt.xlabel(\"Weight (g)\")\n",
    "plt.ylabel(\"Average Tumor Volume (mm3)\")\n",
    "\n",
    "plt.xlim(14,26)\n",
    "plt.ylim(34,47)\n",
    "plt.show()"
   ]
  }
 ],
 "metadata": {
  "anaconda-cloud": {},
  "kernelspec": {
   "display_name": "PythonData",
   "language": "python",
   "name": "pythondata"
  },
  "language_info": {
   "codemirror_mode": {
    "name": "ipython",
    "version": 3
   },
   "file_extension": ".py",
   "mimetype": "text/x-python",
   "name": "python",
   "nbconvert_exporter": "python",
   "pygments_lexer": "ipython3",
   "version": "3.9.13"
  }
 },
 "nbformat": 4,
 "nbformat_minor": 4
}
